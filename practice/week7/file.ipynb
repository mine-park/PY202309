{
 "cells": [
  {
   "cell_type": "code",
   "execution_count": 17,
   "id": "a8416a5b",
   "metadata": {},
   "outputs": [
    {
     "name": "stdout",
     "output_type": "stream",
     "text": [
      "|20231016\n",
      "|\n",
      "|파이썬\n",
      "|\n",
      "|한국말|\n"
     ]
    }
   ],
   "source": [
    "fp = open(\"test.txt\", \"r\", encoding=\"utf-8\") # open file\n",
    "\n",
    "data_line = fp.readline() # add '|' between line\n",
    "print(\"|\"+data_line+\"|\")\n",
    "data_line = fp.readline() # add '|' between line\n",
    "print(\"|\"+data_line+\"|\")\n",
    "data_line = fp.readline() # add '|' between line\n",
    "print(\"|\"+data_line+\"|\")"
   ]
  },
  {
   "cell_type": "code",
   "execution_count": 19,
   "id": "788ea277",
   "metadata": {},
   "outputs": [
    {
     "name": "stdout",
     "output_type": "stream",
     "text": [
      "20231016\n",
      "파이썬\n",
      "한국말"
     ]
    }
   ],
   "source": [
    "fp = open(\"test.txt\", \"r\", encoding=\"utf-8\") # open file\n",
    "\n",
    "line_list = fp.readlines() # line change\n",
    "for line_str in line_list:\n",
    "    print(line_str, end=\"\")"
   ]
  },
  {
   "cell_type": "code",
   "execution_count": 20,
   "id": "dcf71f1c",
   "metadata": {},
   "outputs": [
    {
     "ename": "TypeError",
     "evalue": "write() argument must be str, not list",
     "output_type": "error",
     "traceback": [
      "\u001b[1;31m---------------------------------------------------------------------------\u001b[0m",
      "\u001b[1;31mTypeError\u001b[0m                                 Traceback (most recent call last)",
      "\u001b[1;32mC:\\Users\\Public\\Documents\\ESTsoft\\CreatorTemp/ipykernel_8444/3289366138.py\u001b[0m in \u001b[0;36m<module>\u001b[1;34m\u001b[0m\n\u001b[0;32m     14\u001b[0m \u001b[1;33m\u001b[0m\u001b[0m\n\u001b[0;32m     15\u001b[0m \u001b[0mfp\u001b[0m \u001b[1;33m=\u001b[0m \u001b[0mopen\u001b[0m\u001b[1;33m(\u001b[0m\u001b[1;34m\"data_lines.txt\"\u001b[0m\u001b[1;33m,\u001b[0m \u001b[1;34m\"w\"\u001b[0m\u001b[1;33m)\u001b[0m\u001b[1;33m\u001b[0m\u001b[1;33m\u001b[0m\u001b[0m\n\u001b[1;32m---> 16\u001b[1;33m \u001b[0mfp\u001b[0m\u001b[1;33m.\u001b[0m\u001b[0mwrite\u001b[0m\u001b[1;33m(\u001b[0m\u001b[0mlines\u001b[0m\u001b[1;33m)\u001b[0m \u001b[1;31m# list\u001b[0m\u001b[1;33m\u001b[0m\u001b[1;33m\u001b[0m\u001b[0m\n\u001b[0m\u001b[0;32m     17\u001b[0m \u001b[0mfp\u001b[0m\u001b[1;33m.\u001b[0m\u001b[0mclose\u001b[0m\u001b[1;33m(\u001b[0m\u001b[1;33m)\u001b[0m\u001b[1;33m\u001b[0m\u001b[1;33m\u001b[0m\u001b[0m\n",
      "\u001b[1;31mTypeError\u001b[0m: write() argument must be str, not list"
     ]
    }
   ],
   "source": [
    "lines = [\"첫번째 줄 입니다!\", \"두번째 줄 입니다.\"]\n",
    "\n",
    "fp = open(\"data_lines.txt\", \"w\")\n",
    "fp.writelines(lines) # list\n",
    "fp.close()\n",
    "\n",
    "fp = open(\"data_lines.txt\", \"w\")\n",
    "fp.writelines(' \\n'.join(lines)) # array\n",
    "fp.close()\n",
    "\n",
    "fp = open(\"data_lines.txt\", \"w\")\n",
    "fp.writelines(' \\n'.join(lines)) # array\n",
    "fp.close()\n",
    "\n",
    "fp = open(\"data_lines.txt\", \"w\")\n",
    "fp.write(lines) # list\n",
    "fp.close()"
   ]
  },
  {
   "cell_type": "code",
   "execution_count": 1,
   "id": "8b86c47c",
   "metadata": {},
   "outputs": [
    {
     "name": "stdout",
     "output_type": "stream",
     "text": [
      "Input a source file path & name: test.txt\n",
      "Out a source file paath & name: data_lines.txt\n",
      "====== Finish to copy the file ======\n"
     ]
    }
   ],
   "source": [
    "in_fp, out_fp = None, None\n",
    "read_str = \"\"\n",
    "\n",
    "in_file_path = input(\"Input a source file path & name: \") # input in_file name\n",
    "out_file_path = input(\"Out a source file paath & name: \") # input out_file name\n",
    "\n",
    "in_fp = open(in_file_path, \"r\", encoding=\"utf8\") # read\n",
    "out_fp = open(out_file_path, \"w\", encoding=\"utf8\") # write\n",
    "\n",
    "in_lines = in_fp.readlines()\n",
    "for in_str in in_lines: # overwrite\n",
    "    out_fp.writelines(in_str)\n",
    "    \n",
    "in_fp.close()\n",
    "out_fp.close()\n",
    "print(\"====== Finish to copy the file ======\")"
   ]
  },
  {
   "cell_type": "code",
   "execution_count": 2,
   "id": "b8555412",
   "metadata": {},
   "outputs": [
    {
     "name": "stdout",
     "output_type": "stream",
     "text": [
      "1. 암호화, 2. 복호화 중 선택하세요 : 2\n",
      "입력 파일 이름을 입력하세요 : data_enc.txt\n",
      "출력 파일 이름을 입력하세요 : data_dec.txt\n",
      "data_enc.txt --> data_dec.txt Finish to transform\n"
     ]
    }
   ],
   "source": [
    "choice = int(input(\"1. 암호화, 2. 복호화 중 선택하세요 : \")) # choose encoding or decoding\n",
    "in_filename = input(\"입력 파일 이름을 입력하세요 : \")\n",
    "out_filename = input(\"출력 파일 이름을 입력하세요 : \")\n",
    "\n",
    "token_jump = 0\n",
    "\n",
    "if choice == 1: # choose encoding\n",
    "    token_jump = 100\n",
    "elif choice == 2: # choose decoding\n",
    "    token_jump = -100\n",
    "    \n",
    "in_fp = open(in_filename, \"r\", encoding=\"utf8\") # read\n",
    "out_fp = open(out_filename, \"w\", encoding=\"utf8\") # write\n",
    "\n",
    "in_lines = in_fp.readlines()\n",
    "\n",
    "for in_line in in_lines:\n",
    "    out_str = \"\"\n",
    "    for i in range(0, len(in_line)):\n",
    "        ch = in_line[i]\n",
    "        ch_num = ord(ch)\n",
    "        ch_num = ch_num + token_jump\n",
    "        ch2 = chr(ch_num)\n",
    "        out_str = out_str + ch2\n",
    "        \n",
    "    out_fp.write(out_str)\n",
    "    \n",
    "out_fp.close()\n",
    "in_fp.close()\n",
    "print(\"%s --> %s Finish to transform\" %(in_filename, out_filename))"
   ]
  }
 ],
 "metadata": {
  "kernelspec": {
   "display_name": "Python 3 (ipykernel)",
   "language": "python",
   "name": "python3"
  },
  "language_info": {
   "codemirror_mode": {
    "name": "ipython",
    "version": 3
   },
   "file_extension": ".py",
   "mimetype": "text/x-python",
   "name": "python",
   "nbconvert_exporter": "python",
   "pygments_lexer": "ipython3",
   "version": "3.9.7"
  }
 },
 "nbformat": 4,
 "nbformat_minor": 5
}
