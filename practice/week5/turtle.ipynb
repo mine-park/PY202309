{
 "cells": [
  {
   "cell_type": "code",
   "execution_count": 1,
   "id": "0c936fc7",
   "metadata": {},
   "outputs": [
    {
     "name": "stdout",
     "output_type": "stream",
     "text": [
      "bye\n"
     ]
    }
   ],
   "source": [
    "import turtle # using turtle\n",
    "t = turtle.Turtle()\n",
    "turtle.done()\n",
    "\n",
    "try:\n",
    "    turtle.bye()\n",
    "except:\n",
    "    print(\"bye\") # turtle close and print \"bye\""
   ]
  },
  {
   "cell_type": "code",
   "execution_count": 2,
   "id": "cd1dc012",
   "metadata": {},
   "outputs": [
    {
     "name": "stdout",
     "output_type": "stream",
     "text": [
      "bye\n"
     ]
    }
   ],
   "source": [
    "import turtle\n",
    "t = turtle.Turtle()\n",
    "\n",
    "t.shape(\"turtle\")\n",
    "t.forward(100) # move forward 100 \n",
    "t.left(90) # rotate left 90 degrees\n",
    "t.forward(50) # move forward 50\n",
    "\n",
    "turtle.done()\n",
    "\n",
    "try:\n",
    "    turtle.bye()\n",
    "except:\n",
    "    print(\"bye\") # turtle close and print \"bye\""
   ]
  },
  {
   "cell_type": "code",
   "execution_count": 3,
   "id": "f8a85dc9",
   "metadata": {},
   "outputs": [
    {
     "name": "stdout",
     "output_type": "stream",
     "text": [
      "bye\n"
     ]
    }
   ],
   "source": [
    "import turtle\n",
    "t = turtle.Turtle()\n",
    "\n",
    "t.shape(\"turtle\")\n",
    "t.forward(100) # move forward 100\n",
    "t.left(90) # rotate left 90 degrees\n",
    "t.forward(100) # move forward 100\n",
    "t.left(90) # rotate left 90 degrees\n",
    "t.forward(100) # move forward 100\n",
    "t.left(90) # rotate left 90 degrees\n",
    "t.forward(100) # move forward 100\n",
    "\n",
    "turtle.done()\n",
    "\n",
    "try:\n",
    "    turtle.bye()\n",
    "except:\n",
    "    print(\"bye\") # turtle close and print \"bye\""
   ]
  },
  {
   "cell_type": "code",
   "execution_count": 4,
   "id": "8c4e5dfb",
   "metadata": {},
   "outputs": [
    {
     "name": "stdout",
     "output_type": "stream",
     "text": [
      "bye\n"
     ]
    }
   ],
   "source": [
    "import turtle\n",
    "t = turtle.Turtle()\n",
    "\n",
    "radius = 100 # define radius\n",
    "move = 20 # define move\n",
    "\n",
    "t.circle(radius) # circle radius 100\n",
    "t.fd(move) # move forward 20\n",
    "t.circle(radius) # circle radius 100\n",
    "t.fd(move) # move forward 20\n",
    "t.circle(radius) # circle radius 100\n",
    "t.fd(move) # move forward 20\n",
    "\n",
    "turtle.done()\n",
    "\n",
    "try:\n",
    "    turtle.bye()\n",
    "except:\n",
    "    print(\"bye\") # turtle close and print \"bye\""
   ]
  }
 ],
 "metadata": {
  "kernelspec": {
   "display_name": "Python 3 (ipykernel)",
   "language": "python",
   "name": "python3"
  },
  "language_info": {
   "codemirror_mode": {
    "name": "ipython",
    "version": 3
   },
   "file_extension": ".py",
   "mimetype": "text/x-python",
   "name": "python",
   "nbconvert_exporter": "python",
   "pygments_lexer": "ipython3",
   "version": "3.11.4"
  }
 },
 "nbformat": 4,
 "nbformat_minor": 5
}
