{
 "cells": [
  {
   "cell_type": "code",
   "execution_count": 15,
   "id": "774b1dd0",
   "metadata": {},
   "outputs": [
    {
     "name": "stdout",
     "output_type": "stream",
     "text": [
      "1. current list =  [30, 10, 20, 50, 40]\n"
     ]
    }
   ],
   "source": [
    "sample_list = [30, 10, 20, 50, 40] # list\n",
    "print(\"1. current list = \", sample_list)"
   ]
  },
  {
   "cell_type": "code",
   "execution_count": 16,
   "id": "d2eb401e",
   "metadata": {},
   "outputs": [
    {
     "name": "stdout",
     "output_type": "stream",
     "text": [
      "2. append(60) =  [30, 10, 20, 50, 40, 60]\n"
     ]
    }
   ],
   "source": [
    "sample_list.append(60) # list add\n",
    "print(\"2. append(60) = \", sample_list)"
   ]
  },
  {
   "cell_type": "code",
   "execution_count": 17,
   "id": "7291d164",
   "metadata": {},
   "outputs": [
    {
     "name": "stdout",
     "output_type": "stream",
     "text": [
      "3. item after pop() =  60\n",
      "4. list after pop() =  [30, 10, 20, 50, 40]\n"
     ]
    }
   ],
   "source": [
    "print(\"3. item after pop() = \", sample_list.pop()) # last of list delete\n",
    "print(\"4. list after pop() = \", sample_list)"
   ]
  },
  {
   "cell_type": "code",
   "execution_count": 18,
   "id": "57c59b60",
   "metadata": {},
   "outputs": [
    {
     "name": "stdout",
     "output_type": "stream",
     "text": [
      "5. after sort() =  [10, 20, 30, 40, 50]\n"
     ]
    }
   ],
   "source": [
    "sample_list.sort() # list in order\n",
    "print(\"5. after sort() = \", sample_list)"
   ]
  },
  {
   "cell_type": "code",
   "execution_count": 19,
   "id": "eeef73b5",
   "metadata": {},
   "outputs": [
    {
     "name": "stdout",
     "output_type": "stream",
     "text": [
      "6. after reverse() =  [50, 40, 30, 20, 10]\n"
     ]
    }
   ],
   "source": [
    "sample_list.reverse() # last in descend\n",
    "print(\"6. after reverse() = \", sample_list)"
   ]
  },
  {
   "cell_type": "code",
   "execution_count": 20,
   "id": "a2cc749c",
   "metadata": {},
   "outputs": [
    {
     "name": "stdout",
     "output_type": "stream",
     "text": [
      "7. index for 20 =  3\n"
     ]
    }
   ],
   "source": [
    "print(\"7. index for 20 = \", sample_list.index(20)) # location of \"20\""
   ]
  },
  {
   "cell_type": "code",
   "execution_count": 21,
   "id": "022d7052",
   "metadata": {},
   "outputs": [
    {
     "name": "stdout",
     "output_type": "stream",
     "text": [
      "8. after insert(2, 222) =  [50, 40, 222, 30, 20, 10]\n"
     ]
    }
   ],
   "source": [
    "sample_list.insert(2, 222) # add \"222\" in second index\n",
    "print(\"8. after insert(2, 222) = \", sample_list)"
   ]
  },
  {
   "cell_type": "code",
   "execution_count": 22,
   "id": "efa80304",
   "metadata": {},
   "outputs": [
    {
     "name": "stdout",
     "output_type": "stream",
     "text": [
      "9. after remove(2, 222) =  [50, 40, 30, 20, 10]\n"
     ]
    }
   ],
   "source": [
    "sample_list.remove(222) # delete \"222\" in second index\n",
    "print(\"9. after remove(2, 222) = \", sample_list)"
   ]
  },
  {
   "cell_type": "code",
   "execution_count": 23,
   "id": "4eea32fe",
   "metadata": {},
   "outputs": [
    {
     "name": "stdout",
     "output_type": "stream",
     "text": [
      "10. after extend([100, 200, 100]) =  [50, 40, 30, 20, 10, 100, 200, 100]\n"
     ]
    }
   ],
   "source": [
    "new_list = [100, 200, 100] # new list\n",
    "sample_list.extend(new_list) # two list combination\n",
    "print(\"10. after extend([100, 200, 100]) = \", sample_list)"
   ]
  },
  {
   "cell_type": "code",
   "execution_count": 25,
   "id": "58de0685",
   "metadata": {},
   "outputs": [
    {
     "name": "stdout",
     "output_type": "stream",
     "text": [
      "11. the number of 100 =  2\n"
     ]
    }
   ],
   "source": [
    "print(\"11. the number of 100 = \", sample_list.count(100)) # location of \"100\""
   ]
  },
  {
   "cell_type": "code",
   "execution_count": 26,
   "id": "e5255b19",
   "metadata": {},
   "outputs": [
    {
     "name": "stdout",
     "output_type": "stream",
     "text": [
      "turtle bye!\n"
     ]
    }
   ],
   "source": [
    "import turtle\n",
    "t = turtle.Turtle()\n",
    "radius_list = [100, 200, 50]\n",
    "move = 20\n",
    "\n",
    "t.shape(\"turtle\")\n",
    "\n",
    "for i in range(0, len(radius_list)):\n",
    "    radius = radius_list[i]\n",
    "    t.circle(radius)\n",
    "    t.fd(move)\n",
    "    \n",
    "turtle.done()\n",
    "try:\n",
    "    turtle.bye()\n",
    "except:\n",
    "    print(\"turtle bye!\")"
   ]
  }
 ],
 "metadata": {
  "kernelspec": {
   "display_name": "Python 3 (ipykernel)",
   "language": "python",
   "name": "python3"
  },
  "language_info": {
   "codemirror_mode": {
    "name": "ipython",
    "version": 3
   },
   "file_extension": ".py",
   "mimetype": "text/x-python",
   "name": "python",
   "nbconvert_exporter": "python",
   "pygments_lexer": "ipython3",
   "version": "3.9.7"
  }
 },
 "nbformat": 4,
 "nbformat_minor": 5
}
