{
 "cells": [
  {
   "cell_type": "code",
   "execution_count": 1,
   "id": "d18ca5b4",
   "metadata": {},
   "outputs": [
    {
     "name": "stdout",
     "output_type": "stream",
     "text": [
      "** Start Lotto **\n",
      "Number:  11 14 15 18 33 44 "
     ]
    }
   ],
   "source": [
    "import random # define random\n",
    "\n",
    "def get_number(): # randomly numbers\n",
    "    return random.randrange(1, 46)\n",
    "\n",
    "lotto = [] # input lotto numbers\n",
    "num = 0 # define num\n",
    "print(\"** Start Lotto **\")\n",
    "\n",
    "while True:\n",
    "    num = get_number()\n",
    "    \n",
    "    if lotto.count(num) == 0:\n",
    "        lotto.append(num)\n",
    "        \n",
    "    if len(lotto) >= 6:\n",
    "        break\n",
    "        \n",
    "print(\"Number: \", end = ' ')\n",
    "lotto.sort() # set arrange\n",
    "for number in lotto:\n",
    "    print(number, end = ' ')"
   ]
  }
 ],
 "metadata": {
  "kernelspec": {
   "display_name": "Python 3 (ipykernel)",
   "language": "python",
   "name": "python3"
  },
  "language_info": {
   "codemirror_mode": {
    "name": "ipython",
    "version": 3
   },
   "file_extension": ".py",
   "mimetype": "text/x-python",
   "name": "python",
   "nbconvert_exporter": "python",
   "pygments_lexer": "ipython3",
   "version": "3.9.7"
  }
 },
 "nbformat": 4,
 "nbformat_minor": 5
}
