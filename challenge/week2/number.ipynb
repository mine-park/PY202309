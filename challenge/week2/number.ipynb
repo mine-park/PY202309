{
 "cells": [
  {
   "cell_type": "code",
   "execution_count": 2,
   "metadata": {},
   "outputs": [
    {
     "name": "stdout",
     "output_type": "stream",
     "text": [
      "What do you call a bear with no teeth?\n",
      "A gummy bear!\n"
     ]
    }
   ],
   "source": [
    "print(\"What do you call a bear with no teeth?\\nA gummy bear!\")"
   ]
  },
  {
   "cell_type": "code",
   "execution_count": 3,
   "metadata": {},
   "outputs": [
    {
     "name": "stdout",
     "output_type": "stream",
     "text": [
      "Enter your name: mine\n",
      "Hello mine\n"
     ]
    }
   ],
   "source": [
    "name = input(\"Enter your name: \")\n",
    "print(\"Hello\", name)"
   ]
  },
  {
   "cell_type": "code",
   "execution_count": 4,
   "metadata": {},
   "outputs": [
    {
     "name": "stdout",
     "output_type": "stream",
     "text": [
      "Input your name: mine\n",
      "Input your last name: park\n",
      "Hello mine park\n"
     ]
    }
   ],
   "source": [
    "name = input(\"Input your name: \")\n",
    "lastname = input(\"Input your last name: \")\n",
    "print(\"Hello\", name, lastname)"
   ]
  },
  {
   "cell_type": "code",
   "execution_count": 5,
   "metadata": {},
   "outputs": [
    {
     "name": "stdout",
     "output_type": "stream",
     "text": [
      "Input the first number: 10\n",
      "input the second number: 0\n",
      "10 + 0 = 10\n"
     ]
    }
   ],
   "source": [
    "first = int(input(\"Input the first number: \"))\n",
    "second = int(input(\"input the second number: \"))\n",
    "sum = first + second\n",
    "print(\"%d + %d = %d\" % (first, second, sum))"
   ]
  },
  {
   "cell_type": "code",
   "execution_count": 6,
   "metadata": {},
   "outputs": [
    {
     "name": "stdout",
     "output_type": "stream",
     "text": [
      "Input the first number: 10\n",
      "Input the second number: 20\n",
      "Input the third number: 30\n",
      "10 + 20 * 30 = 610\n",
      "(10 + 20) * 30 = 900\n"
     ]
    }
   ],
   "source": [
    "first = int(input(\"Input the first number: \"))\n",
    "second = int(input(\"Input the second number: \"))\n",
    "third = int(input(\"Input the third number: \"))\n",
    "sum1 = first + second * third\n",
    "sum2 = (first + second) * third\n",
    "print(\"%d + %d * %d = %d\" % (first, second, third, sum1))\n",
    "print(\"(%d + %d) * %d = %d\" % (first, second, third, sum2))"
   ]
  },
  {
   "cell_type": "code",
   "execution_count": 8,
   "metadata": {},
   "outputs": [
    {
     "name": "stdout",
     "output_type": "stream",
     "text": [
      "Enter the number of slices of pizza you started with: 10\n",
      "How many slices have you eaten? 30\n",
      "You have -20 slicing remaining.\n"
     ]
    }
   ],
   "source": [
    "slice = int(input(\"Enter the number of slices of pizza you started with: \"))\n",
    "eat = int(input(\"How many slices have you eaten? \"))\n",
    "remain = slice - eat\n",
    "print(\"You have %d slicing remaining.\" % remain)"
   ]
  },
  {
   "cell_type": "code",
   "execution_count": 9,
   "metadata": {},
   "outputs": [
    {
     "name": "stdout",
     "output_type": "stream",
     "text": [
      "What is your name? mine\n",
      "How old are you? 21\n",
      "mine, next birthday you will be 22\n"
     ]
    }
   ],
   "source": [
    "name = input(\"What is your name? \")\n",
    "age = int(input(\"How old are you? \"))\n",
    "older = age + 1\n",
    "print(\"%s, next birthday you will be %d\" % (name, older))"
   ]
  },
  {
   "cell_type": "code",
   "execution_count": null,
   "metadata": {},
   "outputs": [],
   "source": []
  }
 ],
 "metadata": {
  "kernelspec": {
   "display_name": "Python 3",
   "language": "python",
   "name": "python3"
  },
  "language_info": {
   "codemirror_mode": {
    "name": "ipython",
    "version": 3
   },
   "file_extension": ".py",
   "mimetype": "text/x-python",
   "name": "python",
   "nbconvert_exporter": "python",
   "pygments_lexer": "ipython3",
   "version": "3.7.6"
  }
 },
 "nbformat": 4,
 "nbformat_minor": 4
}
