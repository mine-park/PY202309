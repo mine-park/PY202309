{
 "cells": [
  {
   "cell_type": "code",
   "execution_count": 1,
   "id": "a248e20f",
   "metadata": {},
   "outputs": [
    {
     "name": "stdout",
     "output_type": "stream",
     "text": [
      "Is it raining? (Y / N)y\n",
      "Is it windy? (Y / N)n\n",
      "Take an umbrella\n"
     ]
    }
   ],
   "source": [
    "rain = input(\"Is it raining? (Y / N)\") # input rain\n",
    "wind = input(\"Is it windy? (Y / N)\") # input wind\n",
    "\n",
    "# yes and yes\n",
    "if rain == 'y' and wind == 'y':\n",
    "    print(\"It is too windy for an umbrella\")\n",
    "# yes and no\n",
    "elif rain == 'y' and wind == 'n':\n",
    "    print(\"Take an umbrella\")\n",
    "# no and yes\n",
    "elif rain == 'n' and wind == 'y':\n",
    "    print(\"Please take a coat\")\n",
    "# no and no\n",
    "elif rain == 'n' and wind == 'n':\n",
    "    print(\"Have a nice day\")\n",
    "# input false value\n",
    "else:\n",
    "    print(\"Incorrect Input\")"
   ]
  }
 ],
 "metadata": {
  "kernelspec": {
   "display_name": "Python 3 (ipykernel)",
   "language": "python",
   "name": "python3"
  },
  "language_info": {
   "codemirror_mode": {
    "name": "ipython",
    "version": 3
   },
   "file_extension": ".py",
   "mimetype": "text/x-python",
   "name": "python",
   "nbconvert_exporter": "python",
   "pygments_lexer": "ipython3",
   "version": "3.9.7"
  }
 },
 "nbformat": 4,
 "nbformat_minor": 5
}
