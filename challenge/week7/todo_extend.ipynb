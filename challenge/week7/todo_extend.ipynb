{
 "cells": [
  {
   "cell_type": "code",
   "execution_count": 10,
   "id": "40145587",
   "metadata": {},
   "outputs": [
    {
     "name": "stdout",
     "output_type": "stream",
     "text": [
      "파일 이름을 입력하세요: t.txt\n",
      "잘못됐습니다.\n"
     ]
    }
   ],
   "source": [
    "def add_task(task_list, task): # add task function\n",
    "    task_list.append(task)\n",
    "    \n",
    "def display_tasks(task_lis): # display tasks function\n",
    "    if not task_list:\n",
    "        print(\"할일 목록이 비어 있습니다.\")\n",
    "    else:\n",
    "        print(\"할일 목록 : \")\n",
    "        for i in range(len(task_list)):\n",
    "            task = task_list[i]\n",
    "            print(f\"{i+1}. {task}\")\n",
    "    \n",
    "def save_tasks_to_file(task_list, filename): # save tasks function\n",
    "    write_fp = open(filename, 'w', encoding=\"utf8\")\n",
    "    for task in task_list:\n",
    "        write_fp.write(task+\"\\n\")\n",
    "    write_fp.close()\n",
    "    \n",
    "def load_tasks_from_file(filename): # load tasks function\n",
    "    task_list = []\n",
    "    read_fp = open(filename, 'r', encoding=\"utf8\")\n",
    "    lines = read_fp.readlines()\n",
    "    for line in lines:\n",
    "        task_list.append(line.strip())\n",
    "    return task_list\n",
    "    \n",
    "file_name = input(\"파일 이름을 입력하세요: \") # input file name\n",
    "\n",
    "try: # check error of read_fp of load_tasks+from_file\n",
    "    task_list = load_tasks_from_file(file_name)\n",
    "    while True: # work todo management program    \n",
    "        print(\"\\n할일 관리 프로그램\")\n",
    "        print(\"1. 할일 추가\")\n",
    "        print(\"2. 할일 목록 표시\")\n",
    "        print(\"3. 종료\")\n",
    "\n",
    "        choice = input(\"선택: \")\n",
    "\n",
    "        if choice == '1': # input task to do\n",
    "            task = input(\"할일을 입력하세요: \")\n",
    "            add_task(task_list, task)\n",
    "            print(\"할일이 추가되었습니다.\")\n",
    "        elif choice == '2': # show tasks that i wrote\n",
    "            display_tasks(task_list)\n",
    "        elif choice == '3': # finish program\n",
    "            save_tasks_to_file(task_list, file_name)\n",
    "            print(\"프로그램을 종료합니다.\")\n",
    "            break\n",
    "        else:\n",
    "            print(\"잘못된 선택입니다. 다시 시도하세요.\")    \n",
    "except: # program finish\n",
    "    print(\"잘못됐습니다.\")"
   ]
  }
 ],
 "metadata": {
  "kernelspec": {
   "display_name": "Python 3 (ipykernel)",
   "language": "python",
   "name": "python3"
  },
  "language_info": {
   "codemirror_mode": {
    "name": "ipython",
    "version": 3
   },
   "file_extension": ".py",
   "mimetype": "text/x-python",
   "name": "python",
   "nbconvert_exporter": "python",
   "pygments_lexer": "ipython3",
   "version": "3.9.7"
  }
 },
 "nbformat": 4,
 "nbformat_minor": 5
}
