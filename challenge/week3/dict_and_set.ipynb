{
 "cells": [
  {
   "cell_type": "code",
   "execution_count": 5,
   "id": "25357aa3",
   "metadata": {},
   "outputs": [
    {
     "name": "stdout",
     "output_type": "stream",
     "text": [
      "Enter English number ranging from 1 to 5: three\n",
      "three is 삼\n"
     ]
    }
   ],
   "source": [
    "# define dictionary\n",
    "e_number = {\"one\":\"일\", \"two\":\"이\", \"three\":\"삼\", \"four\":\"사\", \"five\":\"오\"}\n",
    "\n",
    "# input keys\n",
    "en_num = input(\"Enter English number ranging from 1 to 5: \")\n",
    "print(\"%s is %s\" %(en_num, e_number[en_num]))"
   ]
  },
  {
   "cell_type": "code",
   "execution_count": 30,
   "id": "803157fa",
   "metadata": {},
   "outputs": [
    {
     "name": "stdout",
     "output_type": "stream",
     "text": [
      "Name: Moving  / average:  4.0\n",
      "Name: Mask Girl  / average:  3.6666666666666665\n",
      "Name: Oppenheimer  / average:  3.3333333333333335\n"
     ]
    }
   ],
   "source": [
    "# define dictionary\n",
    "ratings = {\"Moving\": {\"Misoo\": 4, \"Kwon\": 3, \"Soo\": 5},\n",
    "    \"Mask Girl\": {\"Misoo\": 3, \"David\": 4, \"Soo\": 4},\n",
    "    \"Oppenheimer\": {\"Kwon\": 3, \"Bob\": 3, \"David\": 4}}\n",
    "\n",
    "# define list\n",
    "movie_names = list(ratings.keys())\n",
    "\n",
    "# Moving's list\n",
    "score_list = list(ratings[movie_names[0]].values())\n",
    "print(\"Name:\", movie_names[0], \" / average: \", sum(score_list)/len(score_list))\n",
    "\n",
    "# Mast Girl's list\n",
    "score_list = list(ratings[movie_names[1]].values())\n",
    "print(\"Name:\", movie_names[1], \" / average: \", sum(score_list)/len(score_list))\n",
    "\n",
    "# Oppenheimer's list\n",
    "score_list = list(ratings[movie_names[2]].values())\n",
    "print(\"Name:\", movie_names[2], \" / average: \", sum(score_list)/len(score_list))"
   ]
  },
  {
   "cell_type": "code",
   "execution_count": 46,
   "id": "8f1cd4f8",
   "metadata": {},
   "outputs": [
    {
     "name": "stdout",
     "output_type": "stream",
     "text": [
      "Enter user1's 1st friend name: 철수\n",
      "Enter user1's 2nd friend name: 영수\n",
      "Enter user1's 3rd friend name: 영희\n",
      "Enter user2's 1st friend name: 철희\n",
      "Enter user2's 2nd friend name: 영수\n",
      "Enter user2's 3rd friend name: 동수\n",
      "All friends:  동수 영수 철수 철희 영희\n"
     ]
    }
   ],
   "source": [
    "# define list\n",
    "n_user1 = set()\n",
    "n_user2 = set()\n",
    "\n",
    "# add user1's friend\n",
    "n_user1.add(input(\"Enter user1's 1st friend name: \"))\n",
    "n_user1.add(input(\"Enter user1's 2nd friend name: \"))\n",
    "n_user1.add(input(\"Enter user1's 3rd friend name: \"))\n",
    "\n",
    "# add user2's friend\n",
    "n_user2.add(input(\"Enter user2's 1st friend name: \"))\n",
    "n_user2.add(input(\"Enter user2's 2nd friend name: \"))\n",
    "n_user2.add(input(\"Enter user2's 3rd friend name: \"))\n",
    "\n",
    "# print list\n",
    "print(\"All friends: \", *(n_user1 | n_user2))"
   ]
  }
 ],
 "metadata": {
  "kernelspec": {
   "display_name": "Python 3 (ipykernel)",
   "language": "python",
   "name": "python3"
  },
  "language_info": {
   "codemirror_mode": {
    "name": "ipython",
    "version": 3
   },
   "file_extension": ".py",
   "mimetype": "text/x-python",
   "name": "python",
   "nbconvert_exporter": "python",
   "pygments_lexer": "ipython3",
   "version": "3.9.7"
  }
 },
 "nbformat": 4,
 "nbformat_minor": 5
}
