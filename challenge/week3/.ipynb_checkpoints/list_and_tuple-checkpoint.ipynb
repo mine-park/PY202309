{
 "cells": [
  {
   "cell_type": "code",
   "execution_count": 1,
   "id": "00d565a7",
   "metadata": {},
   "outputs": [
    {
     "name": "stdout",
     "output_type": "stream",
     "text": [
      "Enter 1st number: 90\n",
      "Enter 2nd number: 50\n",
      "Enter 3rd number: 40\n",
      "Enter 4th number: 60\n",
      "Enter 5th number: 10\n",
      "max:  90\n",
      "min:  10\n",
      "average:  50.0\n"
     ]
    }
   ],
   "source": [
    "first = int(input(\"Enter 1st number: \")) # input first number\n",
    "second = int(input(\"Enter 2nd number: \")) # input second number\n",
    "third = int(input(\"Enter 3rd number: \")) # input third number\n",
    "forth = int(input(\"Enter 4th number: \")) # input forth number\n",
    "fifth = int(input(\"Enter 5th number: \")) # input fifth number\n",
    "\n",
    "sample_list = [first, second, third, forth, fifth] # save list\n",
    "\n",
    "print(\"max: \", max(sample_list)) # print max number in list\n",
    "print(\"min: \", min(sample_list)) # print min number in list\n",
    "print(\"average: \", sum(sample_list)/len(sample_list)) # print average max and min"
   ]
  },
  {
   "cell_type": "code",
   "execution_count": 2,
   "id": "befcc26b",
   "metadata": {},
   "outputs": [
    {
     "name": "stdout",
     "output_type": "stream",
     "text": [
      "What is your favorite singer? Oh My Girl\n",
      "['BTS', 'Black Pink', 'Oh My Girl']\n"
     ]
    }
   ],
   "source": [
    "singer_list = ['BTS', 'Black Pink'] \n",
    "favorite = input(\"What is your favorite singer? \") # input your favorite singer\n",
    "\n",
    "singer_list.append(favorite) # add singer_list\n",
    "print(singer_list)"
   ]
  },
  {
   "cell_type": "code",
   "execution_count": 5,
   "id": "e9fb312b",
   "metadata": {},
   "outputs": [
    {
     "name": "stdout",
     "output_type": "stream",
     "text": [
      "('tennis', 'football', 'baseball', 'basketball', 'golf')\n",
      "Please enter one of the sport name from above: golf\n",
      "golf has index number: 4\n"
     ]
    }
   ],
   "source": [
    "tt_s = ('tennis', 'football', 'baseball', 'basketball', 'golf')\n",
    "print(tt_s) # print tuple\n",
    "\n",
    "sport = input(\"Please enter one of the sport name from above: \") # input sport\n",
    "index = tt_s.index(sport) # save input sport index\n",
    "print(\"%s has index number: %d\" % (sport, index))"
   ]
  },
  {
   "cell_type": "code",
   "execution_count": 1,
   "id": "10c913fa",
   "metadata": {},
   "outputs": [
    {
     "name": "stdout",
     "output_type": "stream",
     "text": [
      "Enter the 1st sold yesterday: Caffe Mocha\n",
      "Enter the 2nd sold yesterday: Iced Tea\n",
      "Enter the 3rd sold yesterday: Americano\n",
      "Enter the 4th sold yesterday: Caffe Latte\n",
      "Enter the 5th sold yesterday: Caffe Mocha\n",
      "Enter the 1st sold today: Americano\n",
      "Enter the 2nd sold today: Americano\n",
      "Enter the 3rd sold today: Americano\n",
      "Enter the 4th sold today: Iced Tea\n",
      "Enter the 5th sold today: Caffe Latte\n",
      "Yesterday sales:  ['Caffe Mocha', 'Iced Tea', 'Americano', 'Caffe Latte', 'Caffe Mocha']\n",
      "Today sales:  ['Americano', 'Americano', 'Americano', 'Iced Tea', 'Caffe Latte']\n",
      "Total sales:  ['Caffe Mocha', 'Iced Tea', 'Americano', 'Caffe Latte', 'Caffe Mocha', 'Americano', 'Americano', 'Americano', 'Iced Tea', 'Caffe Latte']\n",
      "Americano sales:  4\n"
     ]
    }
   ],
   "source": [
    "menu_list = ['Americano', 'Caffe Latte', 'Caffe Mocha', 'Iced Tea']\n",
    "first1 = input(\"Enter the 1st sold yesterday: \") # first sold yesterday\n",
    "second1 = input(\"Enter the 2nd sold yesterday: \") # second sold yesterday\n",
    "third1 = input(\"Enter the 3rd sold yesterday: \") # third sold yesterday\n",
    "forth1 = input(\"Enter the 4th sold yesterday: \") # forth sold yesterday\n",
    "fifth1 = input(\"Enter the 5th sold yesterday: \") # fifth sold yesterday\n",
    "\n",
    "first2 = input(\"Enter the 1st sold today: \") # first sold today\n",
    "second2 = input(\"Enter the 2nd sold today: \") # second sold today\n",
    "third2 = input(\"Enter the 3rd sold today: \") # third sold today\n",
    "forth2 = input(\"Enter the 4th sold today: \") # forth sold today\n",
    "fifth2 = input(\"Enter the 5th sold today: \") # fifth sold today\n",
    "\n",
    "yes_list = [first1, second1, third1, forth1, fifth1] # save yesterday data in list\n",
    "to_list = [first2, second2, third2, forth2, fifth2] # save today data in list\n",
    "\n",
    "print(\"Yesterday sales: \", yes_list)\n",
    "print(\"Today sales:\", to_list)\n",
    "\n",
    "yes_list.extend(to_list) # add list\n",
    "print(\"Total sales:\", yes_list)\n",
    "\n",
    "print(\"Americano sales:\", yes_list.count(\"Americano\")) # count Americano in list"
   ]
  }
 ],
 "metadata": {
  "kernelspec": {
   "display_name": "Python 3 (ipykernel)",
   "language": "python",
   "name": "python3"
  },
  "language_info": {
   "codemirror_mode": {
    "name": "ipython",
    "version": 3
   },
   "file_extension": ".py",
   "mimetype": "text/x-python",
   "name": "python",
   "nbconvert_exporter": "python",
   "pygments_lexer": "ipython3",
   "version": "3.11.4"
  }
 },
 "nbformat": 4,
 "nbformat_minor": 5
}
