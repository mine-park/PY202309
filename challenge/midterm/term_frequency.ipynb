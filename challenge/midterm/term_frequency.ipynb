{
 "cells": [
  {
   "cell_type": "code",
   "execution_count": 15,
   "id": "5018b6ef",
   "metadata": {},
   "outputs": [
    {
     "name": "stdout",
     "output_type": "stream",
     "text": [
      "-----TF dictionary-----\n",
      "{'dog': 1, 'quick': 1, 'over': 1, 'books': 1, 'all': 1, 'opportunity': 1, 'journey': 1, 'with': 1, 'begins': 1, 'step': 1, 'is': 1, 'brown': 1, 'miles': 1, 'a': 3, 'lies': 1, 'to': 1, 'middle': 1, 'likes': 1, 'lazy': 1, 'in': 1, 'that': 1, 'not': 1, 'the': 3, 'difficulty': 1, 'read': 1, 'single': 1, 'thousand': 1, 'gold': 1, 'glitters': 1, 'she': 1, 'fox': 1, 'jumps': 1, 'of': 2}\n",
      "-----Top-3 TF terms-----\n",
      "1 a 3\n",
      "2 the 3\n",
      "3 of 2\n"
     ]
    }
   ],
   "source": [
    "import operator\n",
    "\n",
    "sentences = [\n",
    "    \"The quick brown fox jumps over the lazy dog.\",\n",
    "    \"A journey of a thousand miles begins with a single step.\",\n",
    "    \"All that glitters is not gold.\",    \n",
    "    \"In the middle of difficulty lies opportunity.\",\n",
    "    \"She likes to read books.\"\n",
    "]\n",
    "\n",
    "\n",
    "total_terms = set() # 토큰 집합 선언하기\n",
    "# TODO 1: 토큰 집합 만들기\n",
    "for sentence in sentences:\n",
    "    words = sentence.replace(\".\", \"\").split(\" \") # .(점)을 생략하고 공백 기준으로 단어 쪼개기\n",
    "    for word in words:\n",
    "        total_terms.add(word.lower()) # 쪼갰던 단어 토큰 집합에 추가하기(대소문자 구분X)\n",
    "\n",
    "\n",
    "term_frequency_dict = {} # 토큰 별 단어 빈도 저장할 딕셔너리\n",
    "# TODO 2: 토큰 별 단어 빈도를 딕셔너리에 저장\n",
    "for term in total_terms:\n",
    "    term_frequency_dict[term] = 0 # 빈도 초기화\n",
    "    for sentence in sentences:\n",
    "        words = sentence.replace(\".\", \"\").split(\" \") # 토큰 집합 단어 쪼개기\n",
    "        for word in words:\n",
    "            if word.lower() == term: \n",
    "                term_frequency_dict[term] += 1 # 단어가 일치하면 빈도(+1)\n",
    "\n",
    "                \n",
    "# 토큰 빈도 출력\n",
    "print(\"-----TF dictionary-----\")\n",
    "print(term_frequency_dict) # 토큰 빈도가 저장된 딕셔너리 출력하기\n",
    "\n",
    "\n",
    "print(\"-----Top-3 TF terms-----\")\n",
    "# TODO 3: 토큰 빈도를 갖는 단어의 순위, 단어, 빈도 출력 코드 작성\n",
    "sorted_terms = sorted(term_frequency_dict.items(), key=operator.itemgetter(1), reverse=True) # 빈도수 기준으로 내림차순 정렬하기\n",
    "for i in range(0, 3): # 상위 3개의 토큰 출력하기위한 반복문\n",
    "    print(i+1, sorted_terms[i][0], sorted_terms[i][1]) # 순위, 정렬된 딕셔너리 중 상위 3개의 단어, 그 단어들의 빈도 출력하기"
   ]
  }
 ],
 "metadata": {
  "kernelspec": {
   "display_name": "Python 3 (ipykernel)",
   "language": "python",
   "name": "python3"
  },
  "language_info": {
   "codemirror_mode": {
    "name": "ipython",
    "version": 3
   },
   "file_extension": ".py",
   "mimetype": "text/x-python",
   "name": "python",
   "nbconvert_exporter": "python",
   "pygments_lexer": "ipython3",
   "version": "3.11.4"
  }
 },
 "nbformat": 4,
 "nbformat_minor": 5
}
