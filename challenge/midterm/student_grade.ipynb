{
 "cells": [
  {
   "cell_type": "code",
   "execution_count": 32,
   "id": "4c110baa",
   "metadata": {},
   "outputs": [
    {
     "name": "stdout",
     "output_type": "stream",
     "text": [
      "-----학생들의 평균 점수-----\n",
      "실바의 평균 점수는   73.66666666666667 입니다.\n",
      "산토스의 평균 점수는   86.93333333333334 입니다.\n",
      "맥그리거의 평균 점수는   85.7 입니다.\n",
      "알도의 평균 점수는   85.43333333333332 입니다.\n",
      "로우지의 평균 점수는   83.10000000000001 입니다.\n",
      "누네스의 평균 점수는   85.93333333333334 입니다.\n"
     ]
    }
   ],
   "source": [
    "# 파일을 읽어서 각 줄을 리스트로 저장\n",
    "lines = open(\"student.csv\", \"r\", encoding=\"utf8\").readlines()\n",
    "\n",
    "# TODO 1: 학생 정보를 딕셔너리에 저장\n",
    "student_data = {}\n",
    "\n",
    "header = lines[0].strip().split(',') # 쉼표(,) 기준으로 단어 쪼개기\n",
    "for line in lines[1:]: # '실바' 부분부터 시작\n",
    "    tokens = line.strip().split(',') # 쉼표(,) 기준으로 쪼갠 학생 이름을 tokens에 저장\n",
    "    student_name = tokens[0] # tokens에 저장된 학생 이름들을  student_name에 저장\n",
    "    scores = [float(score) if '.' in score else int(score) for score in tokens[1:]] # 학생 별 점수를 scores에 저장\n",
    "    student_data[student_name] = dict(zip(header[1:], scores)) # 각 학생 별로 저장한 점수를 student_data 딕셔너리에 저장\n",
    "\n",
    "# TODO 2: 학생 별 평균 점수를 계산\n",
    "average_scores = {} # 평균 점수를 저장할 딕셔너리 정의\n",
    "\n",
    "for student_name, scores in student_data.items(): # student_data의 key 값과 value 값을 각각 학생 이름과 점수로 저장\n",
    "    average_score = sum(scores.values()) / len(scores) if len(scores) > 0 else 0 # 학생의 점수 평균값을 average_score에 저장\n",
    "    average_scores[student_name] = average_score # 저장된 평균을 각 학생 별로 저장\n",
    "\n",
    "# 결과 출력\n",
    "print(\"-----학생들의 평균 점수-----\")\n",
    "for student_name, average_score in average_scores.items():\n",
    "    print(f'{student_name}의 평균 점수는   {average_score} 입니다.') # 학생들의 평균 점수 출력\n",
    "\n",
    "# 평균 점수를 파일로 출력 (average.txt)\n",
    "file = open(\"average.txt\", 'w', encoding='utf8') # average.txt 파일 생성\n",
    "for student_name, average_score in average_scores.items():\n",
    "    file.write(f'{student_name}의 평균 점수는   {average_score} 입니다.\\n') # 출력된 학생들의 평균 점수를 average.txt에 입력\n",
    "file.close() # 파일 종료"
   ]
  }
 ],
 "metadata": {
  "kernelspec": {
   "display_name": "Python 3 (ipykernel)",
   "language": "python",
   "name": "python3"
  },
  "language_info": {
   "codemirror_mode": {
    "name": "ipython",
    "version": 3
   },
   "file_extension": ".py",
   "mimetype": "text/x-python",
   "name": "python",
   "nbconvert_exporter": "python",
   "pygments_lexer": "ipython3",
   "version": "3.11.4"
  }
 },
 "nbformat": 4,
 "nbformat_minor": 5
}
